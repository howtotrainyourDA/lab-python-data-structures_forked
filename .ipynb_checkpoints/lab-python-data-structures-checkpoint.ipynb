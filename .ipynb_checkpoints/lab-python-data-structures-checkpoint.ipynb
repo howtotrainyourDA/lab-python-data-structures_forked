{
 "cells": [
  {
   "cell_type": "markdown",
   "metadata": {
    "tags": []
   },
   "source": [
    "# Lab | Data Structures "
   ]
  },
  {
   "cell_type": "markdown",
   "metadata": {},
   "source": [
    "## Exercise: Managing Customer Orders\n",
    "\n",
    "As part of a business venture, you are starting an online store that sells various products. To ensure smooth operations, you need to develop a program that manages customer orders and inventory.\n",
    "\n",
    "Follow the steps below to complete the exercise:\n",
    "\n",
    "1. Define a list called `products` that contains the following items: \"t-shirt\", \"mug\", \"hat\", \"book\", \"keychain\".\n",
    "\n",
    "2. Create an empty dictionary called `inventory`.\n",
    "\n",
    "3. Ask the user to input the quantity of each product available in the inventory. Use the product names from the `products` list as keys in the `inventory` dictionary and assign the respective quantities as values.\n",
    "\n",
    "4. Create an empty set called `customer_orders`.\n",
    "\n",
    "5. Ask the user to input the name of three products that a customer wants to order (from those in the products list, meaning three products out of \"t-shirt\", \"mug\", \"hat\", \"book\" or \"keychain\". Add each product name to the `customer_orders` set.\n",
    "\n",
    "6. Print the products in the `customer_orders` set.\n",
    "\n",
    "7. Calculate the following order statistics:\n",
    "   - Total Products Ordered: The total number of products in the `customer_orders` set.\n",
    "   - Percentage of Products Ordered: The percentage of products ordered compared to the total available products.\n",
    "   \n",
    "   Store these statistics in a tuple called `order_status`.\n",
    "\n",
    "8. Print the order statistics using the following format:\n",
    "   ```\n",
    "   Order Statistics:\n",
    "   Total Products Ordered: <total_products_ordered>\n",
    "   Percentage of Products Ordered: <percentage_ordered>% \n",
    "   ```\n",
    "\n",
    "9. Update the inventory by subtracting 1 from the quantity of each product. Modify the `inventory` dictionary accordingly.\n",
    "\n",
    "10. Print the updated inventory, displaying the quantity of each product on separate lines.\n",
    "\n",
    "Solve the exercise by implementing the steps using the Python concepts of lists, dictionaries, sets, and basic input/output operations. "
   ]
  },
  {
   "cell_type": "code",
   "execution_count": 107,
   "metadata": {
    "jupyter": {
     "source_hidden": true
    }
   },
   "outputs": [],
   "source": [
    "# 1.\n",
    "\n",
    "products = [\"t-shirt\", \"mug\", \"hat\", \"book\", \"keychain\"]\n"
   ]
  },
  {
   "cell_type": "code",
   "execution_count": 131,
   "metadata": {},
   "outputs": [],
   "source": [
    "# 2. \n",
    "inventory = {}\n",
    "\n"
   ]
  },
  {
   "cell_type": "code",
   "execution_count": 132,
   "metadata": {
    "scrolled": true
   },
   "outputs": [
    {
     "name": "stdin",
     "output_type": "stream",
     "text": [
      "Please enter amount for t-shirt. 8\n",
      "Please enter amount for mug. 8\n",
      "Please enter amount for hat. 8\n",
      "Please enter amount for book. 8\n",
      "Please enter amount for keychain. 8\n"
     ]
    },
    {
     "name": "stdout",
     "output_type": "stream",
     "text": [
      "{'t-shirt': 8, 'mug': 8, 'hat': 8, 'book': 8, 'keychain': 8}\n"
     ]
    }
   ],
   "source": [
    "#3. \n",
    "\n",
    "for item in products:\n",
    "    usr = int(input(f\"Please enter amount for {item}.\"))\n",
    "    inventory[item] = usr   \n",
    "\n",
    "\n",
    "#inventory.update([items, usr])\n",
    "#my_dict.update([('city', 'New York'), ('email', 'alice@example.com')])\n",
    "\n",
    "print(inventory)\n"
   ]
  },
  {
   "cell_type": "code",
   "execution_count": 133,
   "metadata": {},
   "outputs": [],
   "source": [
    "#4.\n",
    "\n",
    "\n",
    "customer_orders = set()\n"
   ]
  },
  {
   "cell_type": "code",
   "execution_count": 134,
   "metadata": {},
   "outputs": [
    {
     "name": "stdin",
     "output_type": "stream",
     "text": [
      "How many items do you want to order? 3\n",
      "Name 3 products you want to order mug\n",
      "Name 3 products you want to order book\n",
      "Name 3 products you want to order hat\n"
     ]
    }
   ],
   "source": [
    "#5. \n",
    "\n",
    "num_order = int(input(\"How many items do you want to order?\"))\n",
    "\n",
    "for i in range(num_order):\n",
    "    order = input(f\"Name {num_order} products you want to order\")\n",
    "    i += 1\n",
    "    customer_orders.add(order)\n",
    "\n"
   ]
  },
  {
   "cell_type": "code",
   "execution_count": 135,
   "metadata": {},
   "outputs": [
    {
     "name": "stdout",
     "output_type": "stream",
     "text": [
      "{'hat', 'mug', 'book'}\n"
     ]
    }
   ],
   "source": [
    "#6.\n",
    "\n",
    "print(customer_orders)"
   ]
  },
  {
   "cell_type": "code",
   "execution_count": 136,
   "metadata": {
    "scrolled": true
   },
   "outputs": [
    {
     "name": "stdin",
     "output_type": "stream",
     "text": [
      "how many hats do you want to buy? 2\n",
      "how many mugs do you want to buy? 4\n",
      "how many books do you want to buy? 6\n"
     ]
    },
    {
     "name": "stdout",
     "output_type": "stream",
     "text": [
      "{'hat': 2, 'mug': 4, 'book': 6}\n"
     ]
    }
   ],
   "source": [
    "#7. \n",
    "shopping_cart = {}\n",
    "total_amount = 0\n",
    "total_amount_ordered = 0\n",
    "\n",
    "for item in customer_orders:\n",
    "    buy = int(input(f\"how many {item}s do you want to buy?\"))\n",
    "    shopping_cart[item] = buy\n",
    "\n",
    "print(shopping_cart)\n",
    "\n",
    "for key, value in shopping_cart.items():\n",
    "    total_amount_ordered += value\n",
    "for key, value in inventory.items():\n",
    "    total_amount += value\n",
    "    \n",
    "order_status = (total_amount_ordered / total_amount) *100\n",
    "\n"
   ]
  },
  {
   "cell_type": "code",
   "execution_count": 137,
   "metadata": {},
   "outputs": [
    {
     "name": "stdout",
     "output_type": "stream",
     "text": [
      "Order Statistics: \n",
      "Total Products Ordered: 12\n",
      "Percentage of Products Ordered: 1200\n"
     ]
    }
   ],
   "source": [
    "# 8.\n",
    "\n",
    "print(f\"Order Statistics: \\nTotal Products Ordered: {total_amount_ordered}\\nPercentage of Products Ordered: {order_status}\") \n"
   ]
  },
  {
   "cell_type": "code",
   "execution_count": 138,
   "metadata": {},
   "outputs": [
    {
     "name": "stdout",
     "output_type": "stream",
     "text": [
      "{'t-shirt': 8, 'mug': 4, 'hat': 6, 'book': 2, 'keychain': 8}\n",
      "t-shirt : 8\n",
      "mug : 4\n",
      "hat : 6\n",
      "book : 2\n",
      "keychain : 8\n"
     ]
    }
   ],
   "source": [
    "# 9.\n",
    "\n",
    "for key, value in shopping_cart.items():\n",
    "    inventory[key] = inventory.get(key) - value\n",
    "\n",
    "for key, value in inventory.items():\n",
    "    print(f\"{key} : {value}\")"
   ]
  },
  {
   "cell_type": "code",
   "execution_count": null,
   "metadata": {},
   "outputs": [],
   "source": []
  },
  {
   "cell_type": "code",
   "execution_count": null,
   "metadata": {},
   "outputs": [],
   "source": []
  }
 ],
 "metadata": {
  "kernelspec": {
   "display_name": "Python 3 (ipykernel)",
   "language": "python",
   "name": "python3"
  },
  "language_info": {
   "codemirror_mode": {
    "name": "ipython",
    "version": 3
   },
   "file_extension": ".py",
   "mimetype": "text/x-python",
   "name": "python",
   "nbconvert_exporter": "python",
   "pygments_lexer": "ipython3",
   "version": "3.12.4"
  }
 },
 "nbformat": 4,
 "nbformat_minor": 4
}
